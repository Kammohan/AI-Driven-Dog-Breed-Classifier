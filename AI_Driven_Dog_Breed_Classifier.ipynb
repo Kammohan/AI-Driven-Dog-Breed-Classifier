{
  "nbformat": 4,
  "nbformat_minor": 0,
  "metadata": {
    "colab": {
      "provenance": [],
      "gpuType": "T4"
    },
    "kernelspec": {
      "name": "python3",
      "display_name": "Python 3"
    },
    "language_info": {
      "name": "python"
    },
    "accelerator": "GPU"
  },
  "cells": [
    {
      "cell_type": "markdown",
      "source": [
        "# End-to-end Multi-class Dog Breed Classification\n",
        "\n",
        "This notebook builds an end-to-end multi class image classifier using TensorFlow 2.x and TensorFlowhub.\n",
        "\n",
        "## 1. Problem\n",
        "\n",
        "Identifying a breed of a dog given an image of a dog.\n",
        "\n",
        "When I am at a place where there is a dog, I would like to take a photo of that dog and know what kind of breed it is.\n",
        "\n",
        "## 2. Data\n",
        "\n",
        "The data that we are using is from Kaggle's dog breed identification competition.\n",
        "\n",
        "https://www.kaggle.com/c/dog-breed-identification/data\n",
        "\n",
        "## 3. Evaluation\n",
        "\n",
        "The evaluation is a file with prediction probabilities for each dog breed of each test image.\n",
        "\n",
        "https://www.kaggle.com/c/dog-breed-identification/overview\n",
        "\n",
        "\n",
        "## 4.Features\n",
        "\n",
        "Some information about the data:\n",
        "* We are dealing with images (unstructured data) so it is probably best we use deep learning/ transfer learning.\n",
        "* There are 120 breeds of dogs (this means there are 120 different classes).\n",
        "* There are around 10,000+ images in the training set\n",
        "(these images have labels).\n",
        "* There are around 10,000+ images in the test set\n",
        "(these images have no labels, because we will want to predict them)."
      ],
      "metadata": {
        "id": "fZizH8wX_Qzq"
      }
    },
    {
      "cell_type": "markdown",
      "source": [
        "## Get our workspace ready\n",
        "* Import TensorFlow 2.x\n",
        "* Import TensorFlow Hub\n",
        "* Make sure we are using a GPU"
      ],
      "metadata": {
        "id": "MZv-0Df5B-25"
      }
    },
    {
      "cell_type": "code",
      "source": [
        "# Import TensorFlow into Colab\n",
        "import tensorflow as tf\n",
        "print(\"TF version:\", tf.__version__)"
      ],
      "metadata": {
        "colab": {
          "base_uri": "https://localhost:8080/"
        },
        "id": "vDG5QapgAAlX",
        "outputId": "ef8242d4-47fd-4cdc-e8db-f0d328681a21"
      },
      "execution_count": 1,
      "outputs": [
        {
          "output_type": "stream",
          "name": "stdout",
          "text": [
            "TF version: 2.15.0\n"
          ]
        }
      ]
    },
    {
      "cell_type": "code",
      "source": [
        "# Import TensorFlow Hub\n",
        "import tensorflow_hub as hub\n",
        "print(\"TF_hub version:\", hub.__version__)"
      ],
      "metadata": {
        "colab": {
          "base_uri": "https://localhost:8080/"
        },
        "id": "gQm57FsFCJSb",
        "outputId": "2826a458-1943-4426-8ef5-35012516cd57"
      },
      "execution_count": 2,
      "outputs": [
        {
          "output_type": "stream",
          "name": "stdout",
          "text": [
            "TF_hub version: 0.16.1\n"
          ]
        }
      ]
    },
    {
      "cell_type": "code",
      "source": [
        "#Check for GPU availability\n",
        "print(\"GPU\", \"available\" if tf.config.list_physical_devices(\"GPU\") else \"not available\")"
      ],
      "metadata": {
        "colab": {
          "base_uri": "https://localhost:8080/"
        },
        "id": "-zrezC-sDQB0",
        "outputId": "cd9de118-beb9-41d2-ff15-2f4ac3ec4578"
      },
      "execution_count": 3,
      "outputs": [
        {
          "output_type": "stream",
          "name": "stdout",
          "text": [
            "GPU available\n"
          ]
        }
      ]
    },
    {
      "cell_type": "code",
      "source": [],
      "metadata": {
        "id": "AWiaT507DqGg"
      },
      "execution_count": null,
      "outputs": []
    }
  ]
}